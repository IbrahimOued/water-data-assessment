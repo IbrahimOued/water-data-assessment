{
 "cells": [
  {
   "cell_type": "markdown",
   "id": "a18fb559",
   "metadata": {},
   "source": [
    "# Preparation et analyse des données"
   ]
  },
  {
   "cell_type": "markdown",
   "id": "bb028b11",
   "metadata": {},
   "source": [
    "## Chargement et exploration des données"
   ]
  },
  {
   "cell_type": "markdown",
   "id": "ed207791",
   "metadata": {},
   "source": [
    "### Chargement des données"
   ]
  },
  {
   "cell_type": "code",
   "execution_count": 1,
   "id": "28e2b399",
   "metadata": {},
   "outputs": [],
   "source": [
    "# Imports\n",
    "import pandas as pd\n",
    "import numpy as np\n",
    "import matplotlib.pyplot as plt\n",
    "import seaborn as sns"
   ]
  },
  {
   "cell_type": "code",
   "execution_count": 2,
   "id": "055de869",
   "metadata": {},
   "outputs": [
    {
     "data": {
      "application/vnd.microsoft.datawrangler.viewer.v0+json": {
       "columns": [
        {
         "name": "index",
         "rawType": "int64",
         "type": "integer"
        },
        {
         "name": "point_name,commune,village,latitude,longitude,installation_date,meter_type,connection_type,status,reading_date,meter_index,revenue_fcfa,recorded_by,notes",
         "rawType": "object",
         "type": "string"
        }
       ],
       "ref": "9271df89-6c13-449e-b1e0-55b8a8f678d0",
       "rows": [
        [
         "0",
         "Borne Fontaine Sikasso Centre,Sikasso,Sikasso,11.3176,-5.6756,2022-03-15,Mechanical,Borne Fontaine,active,2024-01-15,47850,9500,Amadou Traoré,"
        ],
        [
         "1",
         "Borne Fontaine Sikasso Centre,Sikasso,Sikasso,11.3176,-5.6756,2022-03-15,Mechanical,Borne Fontaine,active,2024-02-15,47869,9500,Amadou Traoré,"
        ],
        [
         "2",
         "Borne Fontaine Sikasso Centre,Sikasso,Sikasso,11.3176,-5.6756,2022-03-15,Mechanical,Borne Fontaine,active,2024-03-15,47889,10000,Amadou Traoré,"
        ],
        [
         "3",
         "Borne Fontaine Sikasso Centre,Sikasso,Sikasso,11.3176,-5.6756,2022-03-15,Mechanical,Borne Fontaine,active,2024-04-15,47908,9500,Amadou Traoré,"
        ],
        [
         "4",
         "Borne Fontaine Sikasso Centre,Sikasso,Sikasso,11.3176,-5.6756,2022-03-15,Mechanical,Borne Fontaine,active,2024-05-15,47930,11000,Amadou Traoré,"
        ]
       ],
       "shape": {
        "columns": 1,
        "rows": 5
       }
      },
      "text/html": [
       "<div>\n",
       "<style scoped>\n",
       "    .dataframe tbody tr th:only-of-type {\n",
       "        vertical-align: middle;\n",
       "    }\n",
       "\n",
       "    .dataframe tbody tr th {\n",
       "        vertical-align: top;\n",
       "    }\n",
       "\n",
       "    .dataframe thead th {\n",
       "        text-align: right;\n",
       "    }\n",
       "</style>\n",
       "<table border=\"1\" class=\"dataframe\">\n",
       "  <thead>\n",
       "    <tr style=\"text-align: right;\">\n",
       "      <th></th>\n",
       "      <th>point_name,commune,village,latitude,longitude,installation_date,meter_type,connection_type,status,reading_date,meter_index,revenue_fcfa,recorded_by,notes</th>\n",
       "    </tr>\n",
       "  </thead>\n",
       "  <tbody>\n",
       "    <tr>\n",
       "      <th>0</th>\n",
       "      <td>Borne Fontaine Sikasso Centre,Sikasso,Sikasso,...</td>\n",
       "    </tr>\n",
       "    <tr>\n",
       "      <th>1</th>\n",
       "      <td>Borne Fontaine Sikasso Centre,Sikasso,Sikasso,...</td>\n",
       "    </tr>\n",
       "    <tr>\n",
       "      <th>2</th>\n",
       "      <td>Borne Fontaine Sikasso Centre,Sikasso,Sikasso,...</td>\n",
       "    </tr>\n",
       "    <tr>\n",
       "      <th>3</th>\n",
       "      <td>Borne Fontaine Sikasso Centre,Sikasso,Sikasso,...</td>\n",
       "    </tr>\n",
       "    <tr>\n",
       "      <th>4</th>\n",
       "      <td>Borne Fontaine Sikasso Centre,Sikasso,Sikasso,...</td>\n",
       "    </tr>\n",
       "  </tbody>\n",
       "</table>\n",
       "</div>"
      ],
      "text/plain": [
       "  point_name,commune,village,latitude,longitude,installation_date,meter_type,connection_type,status,reading_date,meter_index,revenue_fcfa,recorded_by,notes\n",
       "0  Borne Fontaine Sikasso Centre,Sikasso,Sikasso,...                                                                                                       \n",
       "1  Borne Fontaine Sikasso Centre,Sikasso,Sikasso,...                                                                                                       \n",
       "2  Borne Fontaine Sikasso Centre,Sikasso,Sikasso,...                                                                                                       \n",
       "3  Borne Fontaine Sikasso Centre,Sikasso,Sikasso,...                                                                                                       \n",
       "4  Borne Fontaine Sikasso Centre,Sikasso,Sikasso,...                                                                                                       "
      ]
     },
     "execution_count": 2,
     "metadata": {},
     "output_type": "execute_result"
    }
   ],
   "source": [
    "# load the dataset\n",
    "uduma_records = pd.read_csv('../dataset/Uduma_sample_data.csv')\n",
    "# print the first few rows\n",
    "uduma_records.head()"
   ]
  },
  {
   "cell_type": "markdown",
   "id": "79b75989",
   "metadata": {},
   "source": [
    "Lors de du chargement des données on se rend compte que les données sont combinées dans une seule colonne. Il nous faudra séparer les données par colonne"
   ]
  },
  {
   "cell_type": "code",
   "execution_count": 3,
   "id": "425d7715",
   "metadata": {},
   "outputs": [
    {
     "data": {
      "text/plain": [
       "Index(['point_name,commune,village,latitude,longitude,installation_date,meter_type,connection_type,status,reading_date,meter_index,revenue_fcfa,recorded_by,notes'], dtype='object')"
      ]
     },
     "execution_count": 3,
     "metadata": {},
     "output_type": "execute_result"
    }
   ],
   "source": [
    "# print column names\n",
    "uduma_records.columns"
   ]
  },
  {
   "cell_type": "code",
   "execution_count": 4,
   "id": "1d046564",
   "metadata": {},
   "outputs": [],
   "source": [
    "# Split the data into columns\n",
    "uduma_records = uduma_records.iloc[:, 0].str.split(',', expand=True).rename(columns={\n",
    "    0: 'point_name',\n",
    "    1: 'commune',\n",
    "    2: 'village',\n",
    "    3: 'latitude',\n",
    "    4: 'longitude',\n",
    "    5: 'installation_date',\n",
    "    6: 'meter_type',\n",
    "    7: 'connection_type',\n",
    "    8: 'status',\n",
    "    9: 'reading_date',\n",
    "    10: 'meter_index',\n",
    "    11: 'revenue_fcfa',\n",
    "    12: 'recorded_by',\n",
    "    13: 'notes'\n",
    "})"
   ]
  },
  {
   "cell_type": "code",
   "execution_count": 5,
   "id": "1ddee535",
   "metadata": {},
   "outputs": [
    {
     "data": {
      "application/vnd.microsoft.datawrangler.viewer.v0+json": {
       "columns": [
        {
         "name": "index",
         "rawType": "int64",
         "type": "integer"
        },
        {
         "name": "point_name",
         "rawType": "object",
         "type": "string"
        },
        {
         "name": "commune",
         "rawType": "object",
         "type": "string"
        },
        {
         "name": "village",
         "rawType": "object",
         "type": "string"
        },
        {
         "name": "latitude",
         "rawType": "object",
         "type": "string"
        },
        {
         "name": "longitude",
         "rawType": "object",
         "type": "string"
        },
        {
         "name": "installation_date",
         "rawType": "object",
         "type": "string"
        },
        {
         "name": "meter_type",
         "rawType": "object",
         "type": "string"
        },
        {
         "name": "connection_type",
         "rawType": "object",
         "type": "string"
        },
        {
         "name": "status",
         "rawType": "object",
         "type": "string"
        },
        {
         "name": "reading_date",
         "rawType": "object",
         "type": "string"
        },
        {
         "name": "meter_index",
         "rawType": "object",
         "type": "string"
        },
        {
         "name": "revenue_fcfa",
         "rawType": "object",
         "type": "string"
        },
        {
         "name": "recorded_by",
         "rawType": "object",
         "type": "string"
        },
        {
         "name": "notes",
         "rawType": "object",
         "type": "string"
        }
       ],
       "ref": "25c35ecc-41cc-45c5-b7b1-925924e623f6",
       "rows": [
        [
         "0",
         "Borne Fontaine Sikasso Centre",
         "Sikasso",
         "Sikasso",
         "11.3176",
         "-5.6756",
         "2022-03-15",
         "Mechanical",
         "Borne Fontaine",
         "active",
         "2024-01-15",
         "47850",
         "9500",
         "Amadou Traoré",
         ""
        ],
        [
         "1",
         "Borne Fontaine Sikasso Centre",
         "Sikasso",
         "Sikasso",
         "11.3176",
         "-5.6756",
         "2022-03-15",
         "Mechanical",
         "Borne Fontaine",
         "active",
         "2024-02-15",
         "47869",
         "9500",
         "Amadou Traoré",
         ""
        ],
        [
         "2",
         "Borne Fontaine Sikasso Centre",
         "Sikasso",
         "Sikasso",
         "11.3176",
         "-5.6756",
         "2022-03-15",
         "Mechanical",
         "Borne Fontaine",
         "active",
         "2024-03-15",
         "47889",
         "10000",
         "Amadou Traoré",
         ""
        ],
        [
         "3",
         "Borne Fontaine Sikasso Centre",
         "Sikasso",
         "Sikasso",
         "11.3176",
         "-5.6756",
         "2022-03-15",
         "Mechanical",
         "Borne Fontaine",
         "active",
         "2024-04-15",
         "47908",
         "9500",
         "Amadou Traoré",
         ""
        ],
        [
         "4",
         "Borne Fontaine Sikasso Centre",
         "Sikasso",
         "Sikasso",
         "11.3176",
         "-5.6756",
         "2022-03-15",
         "Mechanical",
         "Borne Fontaine",
         "active",
         "2024-05-15",
         "47930",
         "11000",
         "Amadou Traoré",
         ""
        ],
        [
         "5",
         "Borne Fontaine Sikasso Centre",
         "Sikasso",
         "Sikasso",
         "11.3176",
         "-5.6756",
         "2022-03-15",
         "Mechanical",
         "Borne Fontaine",
         "active",
         "2024-06-15",
         "47948",
         "9000",
         "Amadou Traoré",
         ""
        ],
        [
         "6",
         "Borne Fontaine Sikasso Centre",
         "Sikasso",
         "Sikasso",
         "11.3176",
         "-5.6756",
         "2022-03-15",
         "Mechanical",
         "Borne Fontaine",
         "active",
         "2024-07-15",
         "47969",
         "10500",
         "Amadou Traoré",
         ""
        ],
        [
         "7",
         "Connexion Privée Kaboila 1",
         "Kaboila",
         "Kaboila",
         "11.2845",
         "-5.7123",
         "2021-11-20",
         "Digital",
         "Connexion Privée",
         "active",
         "2024-01-20",
         "33980",
         "2500",
         "Fatoumata Keita",
         ""
        ],
        [
         "8",
         "Connexion Privée Kaboila 1",
         "Kaboila",
         "Kaboila",
         "11.2845",
         "-5.7123",
         "2021-11-20",
         "Digital",
         "Connexion Privée",
         "active",
         "2024-02-20",
         "33985",
         "2500",
         "Fatoumata Keita",
         ""
        ],
        [
         "9",
         "Connexion Privée Kaboila 1",
         "Kaboila",
         "Kaboila",
         "11.2845",
         "-5.7123",
         "2021-11-20",
         "Digital",
         "Connexion Privée",
         "active",
         "2024-03-20",
         "33991",
         "3000",
         "Fatoumata Keita",
         ""
        ],
        [
         "10",
         "Connexion Privée Kaboila 1",
         "Kaboila",
         "Kaboila",
         "11.2845",
         "-5.7123",
         "2021-11-20",
         "Digital",
         "Connexion Privée",
         "active",
         "2024-04-20",
         "33996",
         "2500",
         "Fatoumata Keita",
         ""
        ],
        [
         "11",
         "Connexion Privée Kaboila 1",
         "Kaboila",
         "Kaboila",
         "11.2845",
         "-5.7123",
         "2021-11-20",
         "Digital",
         "Connexion Privée",
         "active",
         "2024-05-20",
         "34002",
         "3000",
         "Fatoumata Keita",
         ""
        ],
        [
         "12",
         "Connexion Privée Kaboila 1",
         "Kaboila",
         "Kaboila",
         "11.2845",
         "-5.7123",
         "2021-11-20",
         "Digital",
         "Connexion Privée",
         "active",
         "2024-06-20",
         "34007",
         "2500",
         "Fatoumata Keita",
         ""
        ],
        [
         "13",
         "Connexion Privée Kaboila 1",
         "Kaboila",
         "Kaboila",
         "11.2845",
         "-5.7123",
         "2021-11-20",
         "Digital",
         "Connexion Privée",
         "active",
         "2024-07-20",
         "34013",
         "3000",
         "Fatoumata Keita",
         ""
        ],
        [
         "14",
         "Borne Fontaine Pimperna",
         "Pimperna",
         "Pimperna",
         "11.4012",
         "-5.5234",
         "2023-01-10",
         "Smart",
         "Borne Fontaine",
         "active",
         "2024-01-10",
         "15890",
         "13500",
         "Seydou Diarra",
         ""
        ],
        [
         "15",
         "Borne Fontaine Pimperna",
         "Pimperna",
         "Pimperna",
         "11.4012",
         "-5.5234",
         "2023-01-10",
         "Smart",
         "Borne Fontaine",
         "active",
         "2024-02-10",
         "15917",
         "13500",
         "Seydou Diarra",
         ""
        ],
        [
         "16",
         "Borne Fontaine Pimperna",
         "Pimperna",
         "Pimperna",
         "11.4012",
         "-5.5234",
         "2023-01-10",
         "Smart",
         "Borne Fontaine",
         "active",
         "2024-03-10",
         "15946",
         "14500",
         "Seydou Diarra",
         ""
        ],
        [
         "17",
         "Borne Fontaine Pimperna",
         "Pimperna",
         "Pimperna",
         "11.4012",
         "-5.5234",
         "2023-01-10",
         "Smart",
         "Borne Fontaine",
         "maintenance",
         "2024-04-10",
         "15946",
         "0",
         "Seydou Diarra",
         "Pompe en panne"
        ],
        [
         "18",
         "Borne Fontaine Pimperna",
         "Pimperna",
         "Pimperna",
         "11.4012",
         "-5.5234",
         "2023-01-10",
         "Smart",
         "Borne Fontaine",
         "maintenance",
         "2024-05-10",
         "15948",
         "1000",
         "Seydou Diarra",
         "Réparation partielle"
        ],
        [
         "19",
         "Borne Fontaine Pimperna",
         "Pimperna",
         "Pimperna",
         "11.4012",
         "-5.5234",
         "2023-01-10",
         "Smart",
         "Borne Fontaine",
         "active",
         "2024-06-10",
         "15984",
         "18000",
         "Seydou Diarra",
         "Remis en service"
        ],
        [
         "20",
         "Borne Fontaine Pimperna",
         "Pimperna",
         "Pimperna",
         "11.4012",
         "-5.5234",
         "2023-01-10",
         "Smart",
         "Borne Fontaine",
         "active",
         "2024-07-10",
         "16013",
         "14500",
         "Seydou Diarra",
         ""
        ],
        [
         "21",
         "Connexion Privée Finkolo 2",
         "Finkolo",
         "Finkolo Gare",
         "11.2567",
         "-5.8901",
         "2020-08-05",
         "Mechanical",
         "Connexion Privée",
         "active",
         "2024-01-25",
         "30690",
         "3000",
         "Sekou Coulibaly",
         ""
        ],
        [
         "22",
         "Connexion Privée Finkolo 2",
         "Finkolo",
         "Finkolo Gare",
         "11.2567",
         "-5.8901",
         "2020-08-05",
         "Mechanical",
         "Connexion Privée",
         "active",
         "2024-02-25",
         "30696",
         "3000",
         "Sekou Coulibaly",
         ""
        ],
        [
         "23",
         "Connexion Privée Finkolo 2",
         "Finkolo",
         "Finkolo Gare",
         "11.2567",
         "-5.8901",
         "2020-08-05",
         "Mechanical",
         "Connexion Privée",
         "active",
         "2024-03-25",
         "30703",
         "3500",
         "Sekou Coulibaly",
         ""
        ],
        [
         "24",
         "Connexion Privée Finkolo 2",
         "Finkolo",
         "Finkolo Gare",
         "11.2567",
         "-5.8901",
         "2020-08-05",
         "Mechanical",
         "Connexion Privée",
         "active",
         "2024-04-25",
         "30709",
         "3000",
         "Sekou Coulibaly",
         ""
        ],
        [
         "25",
         "Connexion Privée Finkolo 2",
         "Finkolo",
         "Finkolo Gare",
         "11.2567",
         "-5.8901",
         "2020-08-05",
         "Mechanical",
         "Connexion Privée",
         "active",
         "2024-05-25",
         "30716",
         "3500",
         "Sekou Coulibaly",
         ""
        ],
        [
         "26",
         "Connexion Privée Finkolo 2",
         "Finkolo",
         "Finkolo Gare",
         "11.2567",
         "-5.8901",
         "2020-08-05",
         "Mechanical",
         "Connexion Privée",
         "active",
         "2024-06-25",
         "30722",
         "3000",
         "Sekou Coulibaly",
         ""
        ],
        [
         "27",
         "Connexion Privée Finkolo 2",
         "Finkolo",
         "Finkolo Gare",
         "11.2567",
         "-5.8901",
         "2020-08-05",
         "Mechanical",
         "Connexion Privée",
         "active",
         "2024-07-25",
         "30729",
         "3500",
         "Sekou Coulibaly",
         ""
        ],
        [
         "28",
         "Borne Fontaine Blendio",
         "Blendio",
         "Blendio Centre",
         "11.3789",
         "-5.4567",
         "2022-07-22",
         "Digital",
         "Borne Fontaine",
         "inactive",
         "2024-01-30",
         "18950",
         "0",
         "Mariam Sidibé",
         "Hors service"
        ],
        [
         "29",
         "Borne Fontaine Blendio",
         "Blendio",
         "Blendio Centre",
         "11.3789",
         "-5.4567",
         "2022-07-22",
         "Digital",
         "Borne Fontaine",
         "inactive",
         "2024-02-28",
         "18950",
         "0",
         "Mariam Sidibé",
         "Hors service"
        ],
        [
         "30",
         "Borne Fontaine Blendio",
         "Blendio",
         "Blendio Centre",
         "11.3789",
         "-5.4567",
         "2022-07-22",
         "Digital",
         "Borne Fontaine",
         "inactive",
         "2024-03-30",
         "18952",
         "1000",
         "Mariam Sidibé",
         "Test maintenance"
        ],
        [
         "31",
         "Borne Fontaine Blendio",
         "Blendio",
         "Blendio Centre",
         "11.3789",
         "-5.4567",
         "2022-07-22",
         "Digital",
         "Borne Fontaine",
         "inactive",
         "2024-04-30",
         "18952",
         "0",
         "Mariam Sidibé",
         "Hors service"
        ],
        [
         "32",
         "Borne Fontaine Blendio",
         "Blendio",
         "Blendio Centre",
         "11.3789",
         "-5.4567",
         "2022-07-22",
         "Digital",
         "Borne Fontaine",
         "inactive",
         "2024-05-30",
         "18952",
         "0",
         "Mariam Sidibé",
         "Hors service"
        ],
        [
         "33",
         "Borne Fontaine Blendio",
         "Blendio",
         "Blendio Centre",
         "11.3789",
         "-5.4567",
         "2022-07-22",
         "Digital",
         "Borne Fontaine",
         "inactive",
         "2024-06-30",
         "18952",
         "0",
         "Mariam Sidibé",
         "Hors service"
        ],
        [
         "34",
         "Borne Fontaine Blendio",
         "Blendio",
         "Blendio Centre",
         "11.3789",
         "-5.4567",
         "2022-07-22",
         "Digital",
         "Borne Fontaine",
         "inactive",
         "2024-07-30",
         "18952",
         "0",
         "Mariam Sidibé",
         "Hors service"
        ],
        [
         "35",
         "Connexion Privée Yanfolila 3",
         "Yanfolila",
         "Yanfolila",
         "11.1667",
         "-8.1333",
         "2021-05-12",
         "Mechanical",
         "Connexion Privée",
         "active",
         "2024-01-18",
         "23650",
         "2500",
         "Ibrahim Cissé",
         ""
        ],
        [
         "36",
         "Connexion Privée Yanfolila 3",
         "Yanfolila",
         "Yanfolila",
         "11.1667",
         "-8.1333",
         "2021-05-12",
         "Mechanical",
         "Connexion Privée",
         "active",
         "2024-02-18",
         "23655",
         "2500",
         "Ibrahim Cissé",
         ""
        ],
        [
         "37",
         "Connexion Privée Yanfolila 3",
         "Yanfolila",
         "Yanfolila",
         "11.1667",
         "-8.1333",
         "2021-05-12",
         "Mechanical",
         "Connexion Privée",
         "active",
         "2024-03-18",
         "23661",
         "3000",
         "Ibrahim Cissé",
         ""
        ],
        [
         "38",
         "Connexion Privée Yanfolila 3",
         "Yanfolila",
         "Yanfolila",
         "11.1667",
         "-8.1333",
         "2021-05-12",
         "Mechanical",
         "Connexion Privée",
         "active",
         "2024-04-18",
         "23666",
         "2500",
         "Ibrahim Cissé",
         ""
        ],
        [
         "39",
         "Connexion Privée Yanfolila 3",
         "Yanfolila",
         "Yanfolila",
         "11.1667",
         "-8.1333",
         "2021-05-12",
         "Mechanical",
         "Connexion Privée",
         "active",
         "2024-05-18",
         "23672",
         "3000",
         "Ibrahim Cissé",
         ""
        ],
        [
         "40",
         "Connexion Privée Yanfolila 3",
         "Yanfolila",
         "Yanfolila",
         "11.1667",
         "-8.1333",
         "2021-05-12",
         "Mechanical",
         "Connexion Privée",
         "active",
         "2024-06-18",
         "23676",
         "2000",
         "Ibrahim Cissé",
         ""
        ],
        [
         "41",
         "Connexion Privée Yanfolila 3",
         "Yanfolila",
         "Yanfolila",
         "11.1667",
         "-8.1333",
         "2021-05-12",
         "Mechanical",
         "Connexion Privée",
         "active",
         "2024-07-18",
         "23682",
         "3000",
         "Ibrahim Cissé",
         ""
        ],
        [
         "42",
         "Borne Fontaine Koutiala",
         "Koutiala",
         "Koutiala Centre",
         "12.3833",
         "-5.4667",
         "2023-02-28",
         "Smart",
         "Borne Fontaine",
         "active",
         "2024-01-05",
         "16420",
         "18000",
         "Aicha Doumbia",
         ""
        ],
        [
         "43",
         "Borne Fontaine Koutiala",
         "Koutiala",
         "Koutiala Centre",
         "12.3833",
         "-5.4667",
         "2023-02-28",
         "Smart",
         "Borne Fontaine",
         "active",
         "2024-02-05",
         "16456",
         "18000",
         "Aicha Doumbia",
         ""
        ],
        [
         "44",
         "Borne Fontaine Koutiala",
         "Koutiala",
         "Koutiala Centre",
         "12.3833",
         "-5.4667",
         "2023-02-28",
         "Smart",
         "Borne Fontaine",
         "active",
         "2024-03-05",
         "16494",
         "19000",
         "Aicha Doumbia",
         ""
        ],
        [
         "45",
         "Borne Fontaine Koutiala",
         "Koutiala",
         "Koutiala Centre",
         "12.3833",
         "-5.4667",
         "2023-02-28",
         "Smart",
         "Borne Fontaine",
         "active",
         "2024-04-05",
         "16530",
         "18000",
         "Aicha Doumbia",
         ""
        ],
        [
         "46",
         "Borne Fontaine Koutiala",
         "Koutiala",
         "Koutiala Centre",
         "12.3833",
         "-5.4667",
         "2023-02-28",
         "Smart",
         "Borne Fontaine",
         "active",
         "2024-05-05",
         "16568",
         "19000",
         "Aicha Doumbia",
         ""
        ],
        [
         "47",
         "Borne Fontaine Koutiala",
         "Koutiala",
         "Koutiala Centre",
         "12.3833",
         "-5.4667",
         "2023-02-28",
         "Smart",
         "Borne Fontaine",
         "active",
         "2024-06-05",
         "16604",
         "18000",
         "Aicha Doumbia",
         ""
        ],
        [
         "48",
         "Borne Fontaine Koutiala",
         "Koutiala",
         "Koutiala Centre",
         "12.3833",
         "-5.4667",
         "2023-02-28",
         "Smart",
         "Borne Fontaine",
         "active",
         "2024-07-05",
         "16642",
         "19000",
         "Aicha Doumbia",
         ""
        ],
        [
         "49",
         "Connexion Privée Garalo 4",
         "Garalo",
         "Garalo",
         "11.5667",
         "-6.1833",
         "2020-12-10",
         "Digital",
         "Connexion Privée",
         "active",
         "2024-01-12",
         "36850",
         "2000",
         "Moussa Diakité",
         ""
        ]
       ],
       "shape": {
        "columns": 14,
        "rows": 105
       }
      },
      "text/html": [
       "<div>\n",
       "<style scoped>\n",
       "    .dataframe tbody tr th:only-of-type {\n",
       "        vertical-align: middle;\n",
       "    }\n",
       "\n",
       "    .dataframe tbody tr th {\n",
       "        vertical-align: top;\n",
       "    }\n",
       "\n",
       "    .dataframe thead th {\n",
       "        text-align: right;\n",
       "    }\n",
       "</style>\n",
       "<table border=\"1\" class=\"dataframe\">\n",
       "  <thead>\n",
       "    <tr style=\"text-align: right;\">\n",
       "      <th></th>\n",
       "      <th>point_name</th>\n",
       "      <th>commune</th>\n",
       "      <th>village</th>\n",
       "      <th>latitude</th>\n",
       "      <th>longitude</th>\n",
       "      <th>installation_date</th>\n",
       "      <th>meter_type</th>\n",
       "      <th>connection_type</th>\n",
       "      <th>status</th>\n",
       "      <th>reading_date</th>\n",
       "      <th>meter_index</th>\n",
       "      <th>revenue_fcfa</th>\n",
       "      <th>recorded_by</th>\n",
       "      <th>notes</th>\n",
       "    </tr>\n",
       "  </thead>\n",
       "  <tbody>\n",
       "    <tr>\n",
       "      <th>0</th>\n",
       "      <td>Borne Fontaine Sikasso Centre</td>\n",
       "      <td>Sikasso</td>\n",
       "      <td>Sikasso</td>\n",
       "      <td>11.3176</td>\n",
       "      <td>-5.6756</td>\n",
       "      <td>2022-03-15</td>\n",
       "      <td>Mechanical</td>\n",
       "      <td>Borne Fontaine</td>\n",
       "      <td>active</td>\n",
       "      <td>2024-01-15</td>\n",
       "      <td>47850</td>\n",
       "      <td>9500</td>\n",
       "      <td>Amadou Traoré</td>\n",
       "      <td></td>\n",
       "    </tr>\n",
       "    <tr>\n",
       "      <th>1</th>\n",
       "      <td>Borne Fontaine Sikasso Centre</td>\n",
       "      <td>Sikasso</td>\n",
       "      <td>Sikasso</td>\n",
       "      <td>11.3176</td>\n",
       "      <td>-5.6756</td>\n",
       "      <td>2022-03-15</td>\n",
       "      <td>Mechanical</td>\n",
       "      <td>Borne Fontaine</td>\n",
       "      <td>active</td>\n",
       "      <td>2024-02-15</td>\n",
       "      <td>47869</td>\n",
       "      <td>9500</td>\n",
       "      <td>Amadou Traoré</td>\n",
       "      <td></td>\n",
       "    </tr>\n",
       "    <tr>\n",
       "      <th>2</th>\n",
       "      <td>Borne Fontaine Sikasso Centre</td>\n",
       "      <td>Sikasso</td>\n",
       "      <td>Sikasso</td>\n",
       "      <td>11.3176</td>\n",
       "      <td>-5.6756</td>\n",
       "      <td>2022-03-15</td>\n",
       "      <td>Mechanical</td>\n",
       "      <td>Borne Fontaine</td>\n",
       "      <td>active</td>\n",
       "      <td>2024-03-15</td>\n",
       "      <td>47889</td>\n",
       "      <td>10000</td>\n",
       "      <td>Amadou Traoré</td>\n",
       "      <td></td>\n",
       "    </tr>\n",
       "    <tr>\n",
       "      <th>3</th>\n",
       "      <td>Borne Fontaine Sikasso Centre</td>\n",
       "      <td>Sikasso</td>\n",
       "      <td>Sikasso</td>\n",
       "      <td>11.3176</td>\n",
       "      <td>-5.6756</td>\n",
       "      <td>2022-03-15</td>\n",
       "      <td>Mechanical</td>\n",
       "      <td>Borne Fontaine</td>\n",
       "      <td>active</td>\n",
       "      <td>2024-04-15</td>\n",
       "      <td>47908</td>\n",
       "      <td>9500</td>\n",
       "      <td>Amadou Traoré</td>\n",
       "      <td></td>\n",
       "    </tr>\n",
       "    <tr>\n",
       "      <th>4</th>\n",
       "      <td>Borne Fontaine Sikasso Centre</td>\n",
       "      <td>Sikasso</td>\n",
       "      <td>Sikasso</td>\n",
       "      <td>11.3176</td>\n",
       "      <td>-5.6756</td>\n",
       "      <td>2022-03-15</td>\n",
       "      <td>Mechanical</td>\n",
       "      <td>Borne Fontaine</td>\n",
       "      <td>active</td>\n",
       "      <td>2024-05-15</td>\n",
       "      <td>47930</td>\n",
       "      <td>11000</td>\n",
       "      <td>Amadou Traoré</td>\n",
       "      <td></td>\n",
       "    </tr>\n",
       "    <tr>\n",
       "      <th>...</th>\n",
       "      <td>...</td>\n",
       "      <td>...</td>\n",
       "      <td>...</td>\n",
       "      <td>...</td>\n",
       "      <td>...</td>\n",
       "      <td>...</td>\n",
       "      <td>...</td>\n",
       "      <td>...</td>\n",
       "      <td>...</td>\n",
       "      <td>...</td>\n",
       "      <td>...</td>\n",
       "      <td>...</td>\n",
       "      <td>...</td>\n",
       "      <td>...</td>\n",
       "    </tr>\n",
       "    <tr>\n",
       "      <th>100</th>\n",
       "      <td>Borne Fontaine Mandé</td>\n",
       "      <td>Mandé</td>\n",
       "      <td>Mandé Village</td>\n",
       "      <td>12.1</td>\n",
       "      <td>-7.2</td>\n",
       "      <td>2021-08-30</td>\n",
       "      <td>Mechanical</td>\n",
       "      <td>Borne Fontaine</td>\n",
       "      <td>active</td>\n",
       "      <td>2024-03-16</td>\n",
       "      <td>33218</td>\n",
       "      <td>10000</td>\n",
       "      <td>Adama Coulibaly</td>\n",
       "      <td></td>\n",
       "    </tr>\n",
       "    <tr>\n",
       "      <th>101</th>\n",
       "      <td>Borne Fontaine Mandé</td>\n",
       "      <td>Mandé</td>\n",
       "      <td>Mandé Village</td>\n",
       "      <td>12.1</td>\n",
       "      <td>-7.2</td>\n",
       "      <td>2021-08-30</td>\n",
       "      <td>Mechanical</td>\n",
       "      <td>Borne Fontaine</td>\n",
       "      <td>active</td>\n",
       "      <td>2024-04-16</td>\n",
       "      <td>33236</td>\n",
       "      <td>9000</td>\n",
       "      <td>Adama Coulibaly</td>\n",
       "      <td></td>\n",
       "    </tr>\n",
       "    <tr>\n",
       "      <th>102</th>\n",
       "      <td>Borne Fontaine Mandé</td>\n",
       "      <td>Mandé</td>\n",
       "      <td>Mandé Village</td>\n",
       "      <td>12.1</td>\n",
       "      <td>-7.2</td>\n",
       "      <td>2021-08-30</td>\n",
       "      <td>Mechanical</td>\n",
       "      <td>Borne Fontaine</td>\n",
       "      <td>active</td>\n",
       "      <td>2024-05-16</td>\n",
       "      <td>33256</td>\n",
       "      <td>10000</td>\n",
       "      <td>Adama Coulibaly</td>\n",
       "      <td></td>\n",
       "    </tr>\n",
       "    <tr>\n",
       "      <th>103</th>\n",
       "      <td>Borne Fontaine Mandé</td>\n",
       "      <td>Mandé</td>\n",
       "      <td>Mandé Village</td>\n",
       "      <td>12.1</td>\n",
       "      <td>-7.2</td>\n",
       "      <td>2021-08-30</td>\n",
       "      <td>Mechanical</td>\n",
       "      <td>Borne Fontaine</td>\n",
       "      <td>active</td>\n",
       "      <td>2024-06-16</td>\n",
       "      <td>33274</td>\n",
       "      <td>9000</td>\n",
       "      <td>Adama Coulibaly</td>\n",
       "      <td></td>\n",
       "    </tr>\n",
       "    <tr>\n",
       "      <th>104</th>\n",
       "      <td>Borne Fontaine Mandé</td>\n",
       "      <td>Mandé</td>\n",
       "      <td>Mandé Village</td>\n",
       "      <td>12.1</td>\n",
       "      <td>-7.2</td>\n",
       "      <td>2021-08-30</td>\n",
       "      <td>Mechanical</td>\n",
       "      <td>Borne Fontaine</td>\n",
       "      <td>active</td>\n",
       "      <td>2024-07-16</td>\n",
       "      <td>33294</td>\n",
       "      <td>10000</td>\n",
       "      <td>Adama Coulibaly</td>\n",
       "      <td></td>\n",
       "    </tr>\n",
       "  </tbody>\n",
       "</table>\n",
       "<p>105 rows × 14 columns</p>\n",
       "</div>"
      ],
      "text/plain": [
       "                        point_name  commune        village latitude longitude  \\\n",
       "0    Borne Fontaine Sikasso Centre  Sikasso        Sikasso  11.3176   -5.6756   \n",
       "1    Borne Fontaine Sikasso Centre  Sikasso        Sikasso  11.3176   -5.6756   \n",
       "2    Borne Fontaine Sikasso Centre  Sikasso        Sikasso  11.3176   -5.6756   \n",
       "3    Borne Fontaine Sikasso Centre  Sikasso        Sikasso  11.3176   -5.6756   \n",
       "4    Borne Fontaine Sikasso Centre  Sikasso        Sikasso  11.3176   -5.6756   \n",
       "..                             ...      ...            ...      ...       ...   \n",
       "100           Borne Fontaine Mandé    Mandé  Mandé Village     12.1      -7.2   \n",
       "101           Borne Fontaine Mandé    Mandé  Mandé Village     12.1      -7.2   \n",
       "102           Borne Fontaine Mandé    Mandé  Mandé Village     12.1      -7.2   \n",
       "103           Borne Fontaine Mandé    Mandé  Mandé Village     12.1      -7.2   \n",
       "104           Borne Fontaine Mandé    Mandé  Mandé Village     12.1      -7.2   \n",
       "\n",
       "    installation_date  meter_type connection_type  status reading_date  \\\n",
       "0          2022-03-15  Mechanical  Borne Fontaine  active   2024-01-15   \n",
       "1          2022-03-15  Mechanical  Borne Fontaine  active   2024-02-15   \n",
       "2          2022-03-15  Mechanical  Borne Fontaine  active   2024-03-15   \n",
       "3          2022-03-15  Mechanical  Borne Fontaine  active   2024-04-15   \n",
       "4          2022-03-15  Mechanical  Borne Fontaine  active   2024-05-15   \n",
       "..                ...         ...             ...     ...          ...   \n",
       "100        2021-08-30  Mechanical  Borne Fontaine  active   2024-03-16   \n",
       "101        2021-08-30  Mechanical  Borne Fontaine  active   2024-04-16   \n",
       "102        2021-08-30  Mechanical  Borne Fontaine  active   2024-05-16   \n",
       "103        2021-08-30  Mechanical  Borne Fontaine  active   2024-06-16   \n",
       "104        2021-08-30  Mechanical  Borne Fontaine  active   2024-07-16   \n",
       "\n",
       "    meter_index revenue_fcfa      recorded_by notes  \n",
       "0         47850         9500    Amadou Traoré        \n",
       "1         47869         9500    Amadou Traoré        \n",
       "2         47889        10000    Amadou Traoré        \n",
       "3         47908         9500    Amadou Traoré        \n",
       "4         47930        11000    Amadou Traoré        \n",
       "..          ...          ...              ...   ...  \n",
       "100       33218        10000  Adama Coulibaly        \n",
       "101       33236         9000  Adama Coulibaly        \n",
       "102       33256        10000  Adama Coulibaly        \n",
       "103       33274         9000  Adama Coulibaly        \n",
       "104       33294        10000  Adama Coulibaly        \n",
       "\n",
       "[105 rows x 14 columns]"
      ]
     },
     "execution_count": 5,
     "metadata": {},
     "output_type": "execute_result"
    }
   ],
   "source": [
    "uduma_records"
   ]
  },
  {
   "cell_type": "code",
   "execution_count": 6,
   "id": "3836ad32",
   "metadata": {},
   "outputs": [
    {
     "data": {
      "application/vnd.microsoft.datawrangler.viewer.v0+json": {
       "columns": [
        {
         "name": "index",
         "rawType": "object",
         "type": "string"
        },
        {
         "name": "0",
         "rawType": "object",
         "type": "unknown"
        }
       ],
       "ref": "11cd1393-8964-4f71-a580-5535fc9f8254",
       "rows": [
        [
         "point_name",
         "object"
        ],
        [
         "commune",
         "object"
        ],
        [
         "village",
         "object"
        ],
        [
         "latitude",
         "object"
        ],
        [
         "longitude",
         "object"
        ],
        [
         "installation_date",
         "object"
        ],
        [
         "meter_type",
         "object"
        ],
        [
         "connection_type",
         "object"
        ],
        [
         "status",
         "object"
        ],
        [
         "reading_date",
         "object"
        ],
        [
         "meter_index",
         "object"
        ],
        [
         "revenue_fcfa",
         "object"
        ],
        [
         "recorded_by",
         "object"
        ],
        [
         "notes",
         "object"
        ]
       ],
       "shape": {
        "columns": 1,
        "rows": 14
       }
      },
      "text/plain": [
       "point_name           object\n",
       "commune              object\n",
       "village              object\n",
       "latitude             object\n",
       "longitude            object\n",
       "installation_date    object\n",
       "meter_type           object\n",
       "connection_type      object\n",
       "status               object\n",
       "reading_date         object\n",
       "meter_index          object\n",
       "revenue_fcfa         object\n",
       "recorded_by          object\n",
       "notes                object\n",
       "dtype: object"
      ]
     },
     "execution_count": 6,
     "metadata": {},
     "output_type": "execute_result"
    }
   ],
   "source": [
    "# check the type of each column in the dataframe\n",
    "uduma_records.dtypes"
   ]
  },
  {
   "cell_type": "markdown",
   "id": "a91c0b5b",
   "metadata": {},
   "source": [
    "Toutes les colonnes du dataset sont de type `object`. Cela signifie qu'elles contiennent des données textuelles ou des catégories. Il peut être nécessaire de les convertir en types appropriés (par exemple, datetime pour les dates) avant de procéder à une analyse plus approfondie."
   ]
  },
  {
   "cell_type": "markdown",
   "id": "3a058ac8",
   "metadata": {},
   "source": [
    "### Attribution des types appropriés"
   ]
  },
  {
   "cell_type": "code",
   "execution_count": 7,
   "id": "3d2d19d9",
   "metadata": {},
   "outputs": [
    {
     "data": {
      "application/vnd.microsoft.datawrangler.viewer.v0+json": {
       "columns": [
        {
         "name": "index",
         "rawType": "object",
         "type": "string"
        },
        {
         "name": "0",
         "rawType": "object",
         "type": "unknown"
        }
       ],
       "ref": "818df5dd-9d1e-4e40-ac15-9cf9f4f61cbb",
       "rows": [
        [
         "point_name",
         "category"
        ],
        [
         "commune",
         "category"
        ],
        [
         "village",
         "category"
        ],
        [
         "latitude",
         "float64"
        ],
        [
         "longitude",
         "float64"
        ],
        [
         "installation_date",
         "datetime64[ns]"
        ],
        [
         "meter_type",
         "category"
        ],
        [
         "connection_type",
         "category"
        ],
        [
         "status",
         "category"
        ],
        [
         "reading_date",
         "datetime64[ns]"
        ],
        [
         "meter_index",
         "int64"
        ],
        [
         "revenue_fcfa",
         "float64"
        ],
        [
         "recorded_by",
         "category"
        ],
        [
         "notes",
         "category"
        ]
       ],
       "shape": {
        "columns": 1,
        "rows": 14
       }
      },
      "text/plain": [
       "point_name                 category\n",
       "commune                    category\n",
       "village                    category\n",
       "latitude                    float64\n",
       "longitude                   float64\n",
       "installation_date    datetime64[ns]\n",
       "meter_type                 category\n",
       "connection_type            category\n",
       "status                     category\n",
       "reading_date         datetime64[ns]\n",
       "meter_index                   int64\n",
       "revenue_fcfa                float64\n",
       "recorded_by                category\n",
       "notes                      category\n",
       "dtype: object"
      ]
     },
     "execution_count": 7,
     "metadata": {},
     "output_type": "execute_result"
    }
   ],
   "source": [
    "\n",
    "# point_name,commune,village,latitude,longitude,installation_date,meter_type,connection_type,status,reading_date,meter_index,revenue_fcfa,recorded_by,notes'\n",
    "\n",
    "# On va créer une map pour chaque colonne et son type de donnée approprié\n",
    "dtype_map = {\n",
    "    'point_name': 'category',\n",
    "    'commune': 'category',\n",
    "    'village': 'category',\n",
    "    'latitude': 'float64',\n",
    "    'longitude': 'float64',\n",
    "    'installation_date': 'datetime64[ns]',\n",
    "    'meter_type': 'category',\n",
    "    'connection_type': 'category',\n",
    "    'status': 'category',\n",
    "    'reading_date': 'datetime64[ns]',\n",
    "    'meter_index': 'int64',\n",
    "    'revenue_fcfa': 'float64',\n",
    "    'recorded_by': 'category',\n",
    "    'notes': 'category'\n",
    "}\n",
    "\n",
    "# On va appliquer ce map pour changer le type de chaque colonne\n",
    "for column, dtype in dtype_map.items():\n",
    "    uduma_records[column] = uduma_records[column].astype(dtype)\n",
    "    \n",
    "# check the type of each column in the dataframe\n",
    "uduma_records.dtypes\n"
   ]
  },
  {
   "cell_type": "markdown",
   "id": "77ee67f3",
   "metadata": {},
   "source": [
    "### Vérification de données manquantes et valeures abérantes"
   ]
  },
  {
   "cell_type": "code",
   "execution_count": 8,
   "id": "46dd3cb3",
   "metadata": {},
   "outputs": [
    {
     "name": "stdout",
     "output_type": "stream",
     "text": [
      "Valeurs manquantes:\n",
      " point_name           0\n",
      "commune              0\n",
      "village              0\n",
      "latitude             0\n",
      "longitude            0\n",
      "installation_date    0\n",
      "meter_type           0\n",
      "connection_type      0\n",
      "status               0\n",
      "reading_date         0\n",
      "meter_index          0\n",
      "revenue_fcfa         0\n",
      "recorded_by          0\n",
      "notes                0\n",
      "dtype: int64\n",
      "<class 'pandas.core.frame.DataFrame'>\n",
      "RangeIndex: 105 entries, 0 to 104\n",
      "Data columns (total 14 columns):\n",
      " #   Column             Non-Null Count  Dtype         \n",
      "---  ------             --------------  -----         \n",
      " 0   point_name         105 non-null    category      \n",
      " 1   commune            105 non-null    category      \n",
      " 2   village            105 non-null    category      \n",
      " 3   latitude           105 non-null    float64       \n",
      " 4   longitude          105 non-null    float64       \n",
      " 5   installation_date  105 non-null    datetime64[ns]\n",
      " 6   meter_type         105 non-null    category      \n",
      " 7   connection_type    105 non-null    category      \n",
      " 8   status             105 non-null    category      \n",
      " 9   reading_date       105 non-null    datetime64[ns]\n",
      " 10  meter_index        105 non-null    int64         \n",
      " 11  revenue_fcfa       105 non-null    float64       \n",
      " 12  recorded_by        105 non-null    category      \n",
      " 13  notes              105 non-null    category      \n",
      "dtypes: category(8), datetime64[ns](2), float64(3), int64(1)\n",
      "memory usage: 9.2 KB\n",
      "None\n",
      "         latitude   longitude    installation_date  \\\n",
      "count  105.000000  105.000000                  105   \n",
      "mean    11.644813   -6.802753  2022-01-23 16:00:00   \n",
      "min     11.083300   -9.483300  2020-01-15 00:00:00   \n",
      "25%     11.256700   -7.800000  2021-03-08 00:00:00   \n",
      "50%     11.401200   -6.800000  2022-03-15 00:00:00   \n",
      "75%     12.100000   -5.675600  2023-01-10 00:00:00   \n",
      "max     13.033300   -5.456700  2023-09-12 00:00:00   \n",
      "std      0.562625    1.212242                  NaN   \n",
      "\n",
      "                        reading_date   meter_index  revenue_fcfa  \n",
      "count                            105    105.000000    105.000000  \n",
      "mean   2024-04-15 10:44:34.285714176  26996.790476   9376.190476  \n",
      "min              2024-01-03 00:00:00  12980.000000  -8500.000000  \n",
      "25%              2024-02-22 00:00:00  16604.000000   2500.000000  \n",
      "50%              2024-04-15 00:00:00  24720.000000   9000.000000  \n",
      "75%              2024-06-08 00:00:00  33985.000000  16500.000000  \n",
      "max              2024-07-30 00:00:00  47969.000000  25000.000000  \n",
      "std                              NaN  10567.811172   8005.641326  \n"
     ]
    }
   ],
   "source": [
    "# Check for missing values\n",
    "print(\"Valeurs manquantes:\\n\", uduma_records.isnull().sum())\n",
    "print(uduma_records.info())\n",
    "print(uduma_records.describe())"
   ]
  },
  {
   "cell_type": "code",
   "execution_count": 9,
   "id": "11687be5",
   "metadata": {},
   "outputs": [
    {
     "data": {
      "image/png": "[encoded data removed]",
      "text/plain": [
       "<Figure size 1200x600 with 1 Axes>"
      ]
     },
     "metadata": {},
     "output_type": "display_data"
    }
   ],
   "source": [
    "# Visualize the distribution of revenue\n",
    "\n",
    "plt.figure(figsize=(12, 6))\n",
    "uduma_records['revenue_fcfa'].hist(bins=50)\n",
    "plt.title('Distribution of Revenue (FCFA)')\n",
    "plt.xlabel('Revenue (FCFA)')\n",
    "plt.ylabel('Frequency')\n",
    "plt.grid(False)\n",
    "plt.show()"
   ]
  },
  {
   "cell_type": "code",
   "execution_count": 10,
   "id": "4fd5e002",
   "metadata": {},
   "outputs": [
    {
     "data": {
      "image/png": "[encoded data removed]",
      "text/plain": [
       "<Figure size 1200x600 with 1 Axes>"
      ]
     },
     "metadata": {},
     "output_type": "display_data"
    }
   ],
   "source": [
    "# Calculer la consommation mensuelle pour chaque point d’eau\n",
    "\n",
    "uduma_records['reading_date'] = pd.to_datetime(uduma_records['reading_date'], errors='coerce')\n",
    "\n",
    "# Définir 'reading_date' comme index pour le resampling\n",
    "uduma_records_indexed = uduma_records.set_index('reading_date')\n",
    "\n",
    "# Resample par mois et calculer la somme\n",
    "monthly_consumption = uduma_records_indexed.resample('ME').sum(numeric_only=True)\n",
    "\n",
    "# Plot\n",
    "import matplotlib.pyplot as plt\n",
    "\n",
    "plt.figure(figsize=(12, 6))\n",
    "plt.plot(monthly_consumption.index, monthly_consumption['meter_index'], marker='o')\n",
    "plt.title('Consommation Mensuelle par Point d\\'Eau')\n",
    "plt.xlabel('Date')\n",
    "plt.ylabel('Consommation (m³)')\n",
    "plt.grid()\n",
    "plt.show()\n"
   ]
  },
  {
   "cell_type": "code",
   "execution_count": 11,
   "id": "c36cbbab",
   "metadata": {},
   "outputs": [
    {
     "data": {
      "application/vnd.microsoft.datawrangler.viewer.v0+json": {
       "columns": [
        {
         "name": "index",
         "rawType": "int64",
         "type": "integer"
        },
        {
         "name": "point_name",
         "rawType": "category",
         "type": "unknown"
        },
        {
         "name": "commune",
         "rawType": "category",
         "type": "unknown"
        },
        {
         "name": "village",
         "rawType": "category",
         "type": "unknown"
        },
        {
         "name": "latitude",
         "rawType": "float64",
         "type": "float"
        },
        {
         "name": "longitude",
         "rawType": "float64",
         "type": "float"
        },
        {
         "name": "installation_date",
         "rawType": "datetime64[ns]",
         "type": "datetime"
        },
        {
         "name": "meter_type",
         "rawType": "category",
         "type": "unknown"
        },
        {
         "name": "connection_type",
         "rawType": "category",
         "type": "unknown"
        },
        {
         "name": "status",
         "rawType": "category",
         "type": "unknown"
        },
        {
         "name": "reading_date",
         "rawType": "datetime64[ns]",
         "type": "datetime"
        },
        {
         "name": "meter_index",
         "rawType": "int64",
         "type": "integer"
        },
        {
         "name": "revenue_fcfa",
         "rawType": "float64",
         "type": "float"
        },
        {
         "name": "recorded_by",
         "rawType": "category",
         "type": "unknown"
        },
        {
         "name": "notes",
         "rawType": "category",
         "type": "unknown"
        }
       ],
       "ref": "31824e91-aa64-4227-9bca-d481788aaac3",
       "rows": [
        [
         "97",
         "Borne Fontaine Kita",
         "Kita",
         "Kita Centre",
         "13.0333",
         "-9.4833",
         "2022-05-25 00:00:00",
         "Digital",
         "Borne Fontaine",
         "active",
         "2024-07-06 00:00:00",
         "24750",
         "-8500.0",
         "Ousmane Keita",
         "Compteur défaillant - relevé impossible"
        ]
       ],
       "shape": {
        "columns": 14,
        "rows": 1
       }
      },
      "text/html": [
       "<div>\n",
       "<style scoped>\n",
       "    .dataframe tbody tr th:only-of-type {\n",
       "        vertical-align: middle;\n",
       "    }\n",
       "\n",
       "    .dataframe tbody tr th {\n",
       "        vertical-align: top;\n",
       "    }\n",
       "\n",
       "    .dataframe thead th {\n",
       "        text-align: right;\n",
       "    }\n",
       "</style>\n",
       "<table border=\"1\" class=\"dataframe\">\n",
       "  <thead>\n",
       "    <tr style=\"text-align: right;\">\n",
       "      <th></th>\n",
       "      <th>point_name</th>\n",
       "      <th>commune</th>\n",
       "      <th>village</th>\n",
       "      <th>latitude</th>\n",
       "      <th>longitude</th>\n",
       "      <th>installation_date</th>\n",
       "      <th>meter_type</th>\n",
       "      <th>connection_type</th>\n",
       "      <th>status</th>\n",
       "      <th>reading_date</th>\n",
       "      <th>meter_index</th>\n",
       "      <th>revenue_fcfa</th>\n",
       "      <th>recorded_by</th>\n",
       "      <th>notes</th>\n",
       "    </tr>\n",
       "  </thead>\n",
       "  <tbody>\n",
       "    <tr>\n",
       "      <th>97</th>\n",
       "      <td>Borne Fontaine Kita</td>\n",
       "      <td>Kita</td>\n",
       "      <td>Kita Centre</td>\n",
       "      <td>13.0333</td>\n",
       "      <td>-9.4833</td>\n",
       "      <td>2022-05-25</td>\n",
       "      <td>Digital</td>\n",
       "      <td>Borne Fontaine</td>\n",
       "      <td>active</td>\n",
       "      <td>2024-07-06</td>\n",
       "      <td>24750</td>\n",
       "      <td>-8500.0</td>\n",
       "      <td>Ousmane Keita</td>\n",
       "      <td>Compteur défaillant - relevé impossible</td>\n",
       "    </tr>\n",
       "  </tbody>\n",
       "</table>\n",
       "</div>"
      ],
      "text/plain": [
       "             point_name commune      village  latitude  longitude  \\\n",
       "97  Borne Fontaine Kita    Kita  Kita Centre   13.0333    -9.4833   \n",
       "\n",
       "   installation_date meter_type connection_type  status reading_date  \\\n",
       "97        2022-05-25    Digital  Borne Fontaine  active   2024-07-06   \n",
       "\n",
       "    meter_index  revenue_fcfa    recorded_by  \\\n",
       "97        24750       -8500.0  Ousmane Keita   \n",
       "\n",
       "                                      notes  \n",
       "97  Compteur défaillant - relevé impossible  "
      ]
     },
     "execution_count": 11,
     "metadata": {},
     "output_type": "execute_result"
    }
   ],
   "source": [
    "# Detect anomalies in meter index regarding the revenue produced\n",
    "\n",
    "# Anomalies can be detected by checking for negative revenue or meter index values\n",
    "negative_revenue = uduma_records[uduma_records['revenue_fcfa'] < 0]\n",
    "negative_meter_index = uduma_records[uduma_records['meter_index'] < 0]\n",
    "anomalies = pd.concat([negative_revenue, negative_meter_index]).drop_duplicates()\n",
    "anomalies\n"
   ]
  },
  {
   "cell_type": "code",
   "execution_count": null,
   "id": "51925eef",
   "metadata": {},
   "outputs": [],
   "source": []
  }
 ],
 "metadata": {
  "kernelspec": {
   "display_name": "uduma-exercise",
   "language": "python",
   "name": "python3"
  },
  "language_info": {
   "codemirror_mode": {
    "name": "ipython",
    "version": 3
   },
   "file_extension": ".py",
   "mimetype": "text/x-python",
   "name": "python",
   "nbconvert_exporter": "python",
   "pygments_lexer": "ipython3",
   "version": "3.12.10"
  }
 },
 "nbformat": 4,
 "nbformat_minor": 5
}
